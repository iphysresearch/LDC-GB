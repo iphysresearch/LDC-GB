{
 "cells": [
  {
   "cell_type": "code",
   "execution_count": 1,
   "metadata": {},
   "outputs": [],
   "source": [
    "import numpy as np\n",
    "import h5py\n",
    "import matplotlib.pyplot as plt\n",
    "import pandas as pd\n",
    "import scipy.signal"
   ]
  },
  {
   "cell_type": "markdown",
   "metadata": {},
   "source": [
    "## Loading the training dataset (2Gb)"
   ]
  },
  {
   "cell_type": "code",
   "execution_count": 2,
   "metadata": {},
   "outputs": [],
   "source": [
    "#!wget https://lisa-ldc.lal.in2p3.fr/media/uploads/LDC2_sangria_training_v2.h5"
   ]
  },
  {
   "cell_type": "markdown",
   "metadata": {},
   "source": [
    "Training file contains the following dataset:\n",
    "- `sky/src/cat` with `src` in ['vgb', 'dbg', 'igb', 'mbhb'] with source parameters\n",
    "- `sky/src/tdi` with `src` in ['vgb', 'dbg', 'igb', 'mbhb'] with noise free TDI X, Y, Z\n",
    "- `obs/tdi` with noisy TDI as is a 4D array which contains time vector, X, Y, Z\n",
    "\n",
    "Additional parameter of the simulation can be found in `instru/config` and `obs/config` and `sky/src/config`. "
   ]
  },
  {
   "cell_type": "markdown",
   "metadata": {},
   "source": [
    "### Parse hdf5 file"
   ]
  },
  {
   "cell_type": "code",
   "execution_count": 3,
   "metadata": {},
   "outputs": [
    {
     "name": "stdout",
     "output_type": "stream",
     "text": [
      "header\n",
      "    header/date\n",
      "instru\n",
      "    instru/config\n",
      "        instru/config/LISA_AAFILTER_ATTENUATION\n",
      "        instru/config/LISA_AAFILTER_TRANSITION_BAND_0\n",
      "        instru/config/LISA_AAFILTER_TRANSITION_BAND_1\n",
      "        instru/config/LISA_ACC_NOISE_A_LEVEL\n",
      "        instru/config/LISA_ACC_NOISE_F_KNEE\n",
      "        instru/config/LISA_ACC_NOISE_USE_PZM\n",
      "        instru/config/LISA_ADC_RECURSION_ORDER\n",
      "        instru/config/LISA_BACKLINK_NOISE_A_LEVEL\n",
      "        instru/config/LISA_BACKLINK_NOISE_F_KNEE\n",
      "        instru/config/LISA_DEBUG_CLOCK_OFFSETS\n",
      "        instru/config/LISA_FREQUENCY_OFFSETS_12\n",
      "        instru/config/LISA_FREQUENCY_OFFSETS_13\n",
      "        instru/config/LISA_FREQUENCY_OFFSETS_21\n",
      "        instru/config/LISA_FREQUENCY_OFFSETS_23\n",
      "        instru/config/LISA_FREQUENCY_OFFSETS_31\n",
      "        instru/config/LISA_FREQUENCY_OFFSETS_32\n",
      "        instru/config/LISA_GLITCH_FILE\n",
      "        instru/config/LISA_GW_FILE_FS\n",
      "        instru/config/LISA_GW_FILE_UPSAMPLING\n",
      "        instru/config/LISA_GW_TYPE\n",
      "        instru/config/LISA_LASER_CENTRAL_FREQUENCY\n",
      "        instru/config/LISA_LOCKING_SCHEME\n",
      "        instru/config/LISA_MEASUREMENT_DOWNSAMPLING\n",
      "        instru/config/LISA_MEASUREMENT_FS\n",
      "        instru/config/LISA_ORBIT_TYPE_0\n",
      "        instru/config/LISA_ORBIT_TYPE_1\n",
      "        instru/config/LISA_PHYSICS_FS\n",
      "        instru/config/LISA_PRIMARY_LASER\n",
      "        instru/config/LISA_PUBLISH_BEATNOTE_COMPONENTS\n",
      "        instru/config/LISA_PUBLISH_TOTAL_BEATNOTE\n",
      "        instru/config/LISA_SIMULATE_DOPPLER\n",
      "        instru/config/LISA_TDI_FS\n",
      "        instru/config/OB_INDICES_0\n",
      "        instru/config/OB_INDICES_1\n",
      "        instru/config/OB_INDICES_2\n",
      "        instru/config/OB_INDICES_3\n",
      "        instru/config/OB_INDICES_4\n",
      "        instru/config/OB_INDICES_5\n",
      "        instru/config/SC_INDICES_0\n",
      "        instru/config/SC_INDICES_1\n",
      "        instru/config/SC_INDICES_2\n",
      "        instru/config/TDI_CLOCKCOR_MICHELSON\n",
      "        instru/config/TDI_CLOCKCOR_ORTHVAR\n",
      "        instru/config/TDI_CLOCKCOR_SAGNAC\n",
      "        instru/config/TDI_GENERATION\n",
      "        instru/config/TDI_INPUT_FORMAT\n",
      "        instru/config/TDI_MEASUREMENT_FS\n",
      "        instru/config/TDI_PUBLISH_INTERVAR\n",
      "        instru/config/TDI_PUBLISH_MICHELSON\n",
      "        instru/config/TDI_PUBLISH_ORTHVAR\n",
      "        instru/config/TDI_PUBLISH_SAGNAC\n",
      "        instru/config/TDI_USE_DOPPLER_CORRECTION\n",
      "        instru/config/TDI_USE_FREQUENCY_FLUCTUATIONS\n",
      "        instru/config/TDI_USE_UPDATED_CLOCKCOR\n",
      "        instru/config/TRIPLET_INDICES_0\n",
      "        instru/config/TRIPLET_INDICES_1\n",
      "        instru/config/TRIPLET_INDICES_2\n",
      "        instru/config/TRIPLET_INDICES_3\n",
      "        instru/config/TRIPLET_INDICES_4\n",
      "        instru/config/TRIPLET_INDICES_5\n",
      "obs\n",
      "    obs/config\n",
      "        obs/config/accnoise\n",
      "        obs/config/backlinknoise\n",
      "        obs/config/dirname\n",
      "        obs/config/dt\n",
      "            units: s\n",
      "        obs/config/dt_instrument\n",
      "            units: s\n",
      "        obs/config/dt_orbits\n",
      "            units: s\n",
      "        obs/config/dt_tdi\n",
      "            units: s\n",
      "        obs/config/initial_position\n",
      "            units: rad\n",
      "        obs/config/initial_rotation\n",
      "            units: rad\n",
      "        obs/config/interp_order\n",
      "        obs/config/nbatch\n",
      "        obs/config/nominal_arm_length\n",
      "            units: m\n",
      "        obs/config/orbit_type\n",
      "        obs/config/physic_upsampling\n",
      "        obs/config/readoutnoise\n",
      "        obs/config/sim_kaiser_attenuation\n",
      "        obs/config/sim_kaiser_delay\n",
      "        obs/config/sim_kaiser_passband\n",
      "        obs/config/sim_kaiser_stopband\n",
      "        obs/config/t_max\n",
      "            units: s\n",
      "        obs/config/t_min\n",
      "            units: s\n",
      "        obs/config/tdi_kaiser_attenuation\n",
      "        obs/config/tdi_kaiser_cutoff\n",
      "        obs/config/tdi_kaiser_delay\n",
      "        obs/config/tdi_kaiser_passband\n",
      "        obs/config/tdi_kaiser_stopband\n",
      "        obs/config/travel_time_order\n",
      "    obs/tdi\n",
      "        coord: t\n",
      "        dt: 5.0\n",
      "        t0: 0.0\n",
      "        units: dimensionless\n",
      "sky\n",
      "    sky/dgb\n",
      "        sky/dgb/cat\n",
      "            Amplitude: 1\n",
      "            EclipticLatitude: rad\n",
      "            EclipticLongitude: rad\n",
      "            Frequency: Hz\n",
      "            FrequencyDerivative: Hz2\n",
      "            Inclination: rad\n",
      "            InitialPhase: rad\n",
      "            Polarization: rad\n",
      "        sky/dgb/config\n",
      "            sky/dgb/config/approximant\n",
      "            sky/dgb/config/catalogs\n",
      "            sky/dgb/config/nsource\n",
      "            sky/dgb/config/random_frequency\n",
      "            sky/dgb/config/random_inclination\n",
      "            sky/dgb/config/random_mass\n",
      "            sky/dgb/config/seed\n",
      "            sky/dgb/config/snr_0\n",
      "            sky/dgb/config/snr_1\n",
      "            sky/dgb/config/source_type\n",
      "        sky/dgb/tdi\n",
      "            coord: t\n",
      "            dt: 5.0\n",
      "            t0: 0.0\n",
      "            units: dimensionless\n",
      "    sky/igb\n",
      "        sky/igb/cat\n",
      "        sky/igb/config\n",
      "            sky/igb/config/approximant\n",
      "            sky/igb/config/catalogs\n",
      "            sky/igb/config/nsource\n",
      "            sky/igb/config/random_frequency\n",
      "            sky/igb/config/random_inclination\n",
      "            sky/igb/config/random_mass\n",
      "            sky/igb/config/seed\n",
      "            sky/igb/config/source_type\n",
      "        sky/igb/tdi\n",
      "            coord: t\n",
      "            dt: 5.0\n",
      "            t0: 0.0\n",
      "            units: dimensionless\n",
      "    sky/mbhb\n",
      "        sky/mbhb/cat\n",
      "            CoalescenceTime: s\n",
      "            Distance: Mpc\n",
      "            EclipticLatitude: rad\n",
      "            EclipticLongitude: rad\n",
      "            Inclination: rad\n",
      "            InitialAzimuthalAngleL: rad\n",
      "            InitialPolarAngleL: rad\n",
      "            Mass1: Msun\n",
      "            Mass2: Msun\n",
      "            PhaseAtCoalescence: rad\n",
      "            PolarAngleOfSpin1: rad\n",
      "            PolarAngleOfSpin2: rad\n",
      "            Polarization: rad\n",
      "            Redshift: 1\n",
      "            Spin1: 1\n",
      "            Spin2: 1\n",
      "        sky/mbhb/config\n",
      "            sky/mbhb/config/approximant\n",
      "            sky/mbhb/config/catalogs\n",
      "            sky/mbhb/config/coalescence_time_0\n",
      "            sky/mbhb/config/coalescence_time_1\n",
      "            sky/mbhb/config/indices_0\n",
      "            sky/mbhb/config/indices_1\n",
      "            sky/mbhb/config/indices_10\n",
      "            sky/mbhb/config/indices_11\n",
      "            sky/mbhb/config/indices_12\n",
      "            sky/mbhb/config/indices_13\n",
      "            sky/mbhb/config/indices_14\n",
      "            sky/mbhb/config/indices_2\n",
      "            sky/mbhb/config/indices_3\n",
      "            sky/mbhb/config/indices_4\n",
      "            sky/mbhb/config/indices_5\n",
      "            sky/mbhb/config/indices_6\n",
      "            sky/mbhb/config/indices_7\n",
      "            sky/mbhb/config/indices_8\n",
      "            sky/mbhb/config/indices_9\n",
      "            sky/mbhb/config/mass_ratio_0\n",
      "            sky/mbhb/config/mass_ratio_1\n",
      "            sky/mbhb/config/mass_total_0\n",
      "            sky/mbhb/config/mass_total_1\n",
      "            sky/mbhb/config/nsource\n",
      "            sky/mbhb/config/seed\n",
      "            sky/mbhb/config/source_type\n",
      "            sky/mbhb/config/spin1_0\n",
      "            sky/mbhb/config/spin1_1\n",
      "            sky/mbhb/config/spin2_0\n",
      "            sky/mbhb/config/spin2_1\n",
      "        sky/mbhb/tdi\n",
      "            coord: t\n",
      "            dt: 5.0\n",
      "            t0: 0.0\n",
      "            units: dimensionless\n",
      "    sky/vgb\n",
      "        sky/vgb/cat\n",
      "            Amplitude: 1\n",
      "            EclipticLatitude: rad\n",
      "            EclipticLongitude: rad\n",
      "            Frequency: Hz\n",
      "            FrequencyDerivative: Hz^2\n",
      "            Inclination: rad\n",
      "            InitialPhase: rad\n",
      "            Polarization: rad\n",
      "        sky/vgb/config\n",
      "            sky/vgb/config/approximant\n",
      "            sky/vgb/config/catalogs\n",
      "            sky/vgb/config/nsource\n",
      "            sky/vgb/config/seed\n",
      "            sky/vgb/config/source_type\n",
      "        sky/vgb/tdi\n",
      "            coord: t\n",
      "            dt: 5.0\n",
      "            t0: 0.0\n",
      "            units: dimensionless\n"
     ]
    }
   ],
   "source": [
    "training_file = 'LDC2_sangria_training_v2.h5'\n",
    "def print_attrs(name, obj):\n",
    "    shift = name.count('/') * '    '\n",
    "    print(shift + name)\n",
    "    for key, val in obj.attrs.items():\n",
    "        print(shift + '    ' + f\"{key}: {val}\")\n",
    "\n",
    "fid = h5py.File(training_file)\n",
    "fid.visititems(print_attrs)"
   ]
  },
  {
   "cell_type": "markdown",
   "metadata": {},
   "source": [
    "### Get source parameters"
   ]
  },
  {
   "cell_type": "code",
   "execution_count": 4,
   "metadata": {},
   "outputs": [
    {
     "data": {
      "text/html": [
       "<div>\n",
       "<style scoped>\n",
       "    .dataframe tbody tr th:only-of-type {\n",
       "        vertical-align: middle;\n",
       "    }\n",
       "\n",
       "    .dataframe tbody tr th {\n",
       "        vertical-align: top;\n",
       "    }\n",
       "\n",
       "    .dataframe thead th {\n",
       "        text-align: right;\n",
       "    }\n",
       "</style>\n",
       "<table border=\"1\" class=\"dataframe\">\n",
       "  <thead>\n",
       "    <tr style=\"text-align: right;\">\n",
       "      <th></th>\n",
       "      <th>EclipticLatitude</th>\n",
       "      <th>EclipticLongitude</th>\n",
       "      <th>PolarAngleOfSpin1</th>\n",
       "      <th>PolarAngleOfSpin2</th>\n",
       "      <th>Spin1</th>\n",
       "      <th>Spin2</th>\n",
       "      <th>Mass1</th>\n",
       "      <th>Mass2</th>\n",
       "      <th>CoalescenceTime</th>\n",
       "      <th>PhaseAtCoalescence</th>\n",
       "      <th>InitialPolarAngleL</th>\n",
       "      <th>InitialAzimuthalAngleL</th>\n",
       "      <th>Redshift</th>\n",
       "      <th>Distance</th>\n",
       "      <th>ObservationDuration</th>\n",
       "      <th>Cadence</th>\n",
       "    </tr>\n",
       "  </thead>\n",
       "  <tbody>\n",
       "    <tr>\n",
       "      <th>0</th>\n",
       "      <td>-0.564102</td>\n",
       "      <td>0.610927</td>\n",
       "      <td>0.908972</td>\n",
       "      <td>1.181699</td>\n",
       "      <td>0.972661</td>\n",
       "      <td>0.972862</td>\n",
       "      <td>1.015522e+06</td>\n",
       "      <td>7.968491e+05</td>\n",
       "      <td>4.800021e+06</td>\n",
       "      <td>4.275929</td>\n",
       "      <td>2.577539</td>\n",
       "      <td>4.094550</td>\n",
       "      <td>2.18186</td>\n",
       "      <td>17758.367941</td>\n",
       "      <td>3.155815e+07</td>\n",
       "      <td>3.0</td>\n",
       "    </tr>\n",
       "    <tr>\n",
       "      <th>1</th>\n",
       "      <td>-1.081082</td>\n",
       "      <td>4.052963</td>\n",
       "      <td>2.354232</td>\n",
       "      <td>1.689765</td>\n",
       "      <td>0.742128</td>\n",
       "      <td>0.989247</td>\n",
       "      <td>4.956676e+06</td>\n",
       "      <td>4.067167e+06</td>\n",
       "      <td>8.746488e+06</td>\n",
       "      <td>3.783309</td>\n",
       "      <td>0.963586</td>\n",
       "      <td>3.636925</td>\n",
       "      <td>6.17688</td>\n",
       "      <td>61097.116076</td>\n",
       "      <td>3.155815e+07</td>\n",
       "      <td>3.0</td>\n",
       "    </tr>\n",
       "    <tr>\n",
       "      <th>2</th>\n",
       "      <td>0.636028</td>\n",
       "      <td>0.779159</td>\n",
       "      <td>2.332027</td>\n",
       "      <td>2.065443</td>\n",
       "      <td>0.574122</td>\n",
       "      <td>0.592671</td>\n",
       "      <td>1.773563e+06</td>\n",
       "      <td>1.083356e+06</td>\n",
       "      <td>1.116784e+07</td>\n",
       "      <td>2.311127</td>\n",
       "      <td>0.232802</td>\n",
       "      <td>3.798411</td>\n",
       "      <td>6.03496</td>\n",
       "      <td>59472.237592</td>\n",
       "      <td>3.155815e+07</td>\n",
       "      <td>3.0</td>\n",
       "    </tr>\n",
       "    <tr>\n",
       "      <th>3</th>\n",
       "      <td>-0.878570</td>\n",
       "      <td>4.549720</td>\n",
       "      <td>2.068669</td>\n",
       "      <td>1.097989</td>\n",
       "      <td>0.942824</td>\n",
       "      <td>0.870789</td>\n",
       "      <td>9.159926e+05</td>\n",
       "      <td>7.017527e+05</td>\n",
       "      <td>1.125857e+07</td>\n",
       "      <td>1.150360</td>\n",
       "      <td>1.899782</td>\n",
       "      <td>5.829771</td>\n",
       "      <td>1.10396</td>\n",
       "      <td>7705.852640</td>\n",
       "      <td>3.155815e+07</td>\n",
       "      <td>3.0</td>\n",
       "    </tr>\n",
       "    <tr>\n",
       "      <th>4</th>\n",
       "      <td>-0.303004</td>\n",
       "      <td>1.292518</td>\n",
       "      <td>1.203136</td>\n",
       "      <td>2.097304</td>\n",
       "      <td>0.747377</td>\n",
       "      <td>0.838800</td>\n",
       "      <td>1.323277e+06</td>\n",
       "      <td>6.124855e+05</td>\n",
       "      <td>1.152694e+07</td>\n",
       "      <td>1.220197</td>\n",
       "      <td>2.691982</td>\n",
       "      <td>1.808398</td>\n",
       "      <td>1.73941</td>\n",
       "      <td>13470.983559</td>\n",
       "      <td>3.155815e+07</td>\n",
       "      <td>3.0</td>\n",
       "    </tr>\n",
       "    <tr>\n",
       "      <th>5</th>\n",
       "      <td>0.147296</td>\n",
       "      <td>5.986230</td>\n",
       "      <td>2.434152</td>\n",
       "      <td>1.926613</td>\n",
       "      <td>0.745574</td>\n",
       "      <td>0.546848</td>\n",
       "      <td>2.830218e+06</td>\n",
       "      <td>2.322253e+06</td>\n",
       "      <td>1.197096e+07</td>\n",
       "      <td>4.111379</td>\n",
       "      <td>1.131250</td>\n",
       "      <td>4.319761</td>\n",
       "      <td>5.50770</td>\n",
       "      <td>53474.693790</td>\n",
       "      <td>3.155815e+07</td>\n",
       "      <td>3.0</td>\n",
       "    </tr>\n",
       "    <tr>\n",
       "      <th>6</th>\n",
       "      <td>-0.987304</td>\n",
       "      <td>3.886726</td>\n",
       "      <td>2.594339</td>\n",
       "      <td>1.719446</td>\n",
       "      <td>0.829141</td>\n",
       "      <td>0.972219</td>\n",
       "      <td>3.204750e+06</td>\n",
       "      <td>3.056613e+06</td>\n",
       "      <td>1.361711e+07</td>\n",
       "      <td>3.628682</td>\n",
       "      <td>2.050928</td>\n",
       "      <td>1.084370</td>\n",
       "      <td>2.87966</td>\n",
       "      <td>24829.137775</td>\n",
       "      <td>3.155815e+07</td>\n",
       "      <td>3.0</td>\n",
       "    </tr>\n",
       "    <tr>\n",
       "      <th>7</th>\n",
       "      <td>0.917031</td>\n",
       "      <td>3.584892</td>\n",
       "      <td>1.665850</td>\n",
       "      <td>2.092903</td>\n",
       "      <td>0.988778</td>\n",
       "      <td>0.975945</td>\n",
       "      <td>1.856420e+06</td>\n",
       "      <td>1.801541e+06</td>\n",
       "      <td>1.653219e+07</td>\n",
       "      <td>1.866057</td>\n",
       "      <td>1.410068</td>\n",
       "      <td>0.527915</td>\n",
       "      <td>4.57261</td>\n",
       "      <td>43010.925050</td>\n",
       "      <td>3.155815e+07</td>\n",
       "      <td>3.0</td>\n",
       "    </tr>\n",
       "    <tr>\n",
       "      <th>8</th>\n",
       "      <td>0.835250</td>\n",
       "      <td>3.257316</td>\n",
       "      <td>2.362671</td>\n",
       "      <td>1.539846</td>\n",
       "      <td>0.833674</td>\n",
       "      <td>0.981901</td>\n",
       "      <td>3.983915e+06</td>\n",
       "      <td>2.049535e+06</td>\n",
       "      <td>1.724516e+07</td>\n",
       "      <td>1.578620</td>\n",
       "      <td>2.323179</td>\n",
       "      <td>3.643228</td>\n",
       "      <td>3.34910</td>\n",
       "      <td>29747.551597</td>\n",
       "      <td>3.155815e+07</td>\n",
       "      <td>3.0</td>\n",
       "    </tr>\n",
       "    <tr>\n",
       "      <th>9</th>\n",
       "      <td>-0.521369</td>\n",
       "      <td>3.085541</td>\n",
       "      <td>2.582941</td>\n",
       "      <td>2.200156</td>\n",
       "      <td>0.825883</td>\n",
       "      <td>0.811360</td>\n",
       "      <td>3.128823e+06</td>\n",
       "      <td>2.640346e+06</td>\n",
       "      <td>1.860576e+07</td>\n",
       "      <td>3.425317</td>\n",
       "      <td>2.604701</td>\n",
       "      <td>1.670016</td>\n",
       "      <td>7.21026</td>\n",
       "      <td>73048.167218</td>\n",
       "      <td>3.155815e+07</td>\n",
       "      <td>3.0</td>\n",
       "    </tr>\n",
       "    <tr>\n",
       "      <th>10</th>\n",
       "      <td>1.288883</td>\n",
       "      <td>2.107165</td>\n",
       "      <td>0.624784</td>\n",
       "      <td>1.607191</td>\n",
       "      <td>0.953675</td>\n",
       "      <td>0.954511</td>\n",
       "      <td>1.349254e+06</td>\n",
       "      <td>1.195716e+06</td>\n",
       "      <td>2.042622e+07</td>\n",
       "      <td>3.435176</td>\n",
       "      <td>2.064630</td>\n",
       "      <td>4.287875</td>\n",
       "      <td>3.58897</td>\n",
       "      <td>32301.543286</td>\n",
       "      <td>3.155815e+07</td>\n",
       "      <td>3.0</td>\n",
       "    </tr>\n",
       "    <tr>\n",
       "      <th>11</th>\n",
       "      <td>0.094840</td>\n",
       "      <td>5.181677</td>\n",
       "      <td>2.219383</td>\n",
       "      <td>1.229133</td>\n",
       "      <td>0.908497</td>\n",
       "      <td>0.691493</td>\n",
       "      <td>1.676194e+06</td>\n",
       "      <td>6.075692e+05</td>\n",
       "      <td>2.222807e+07</td>\n",
       "      <td>0.249198</td>\n",
       "      <td>1.867270</td>\n",
       "      <td>4.798109</td>\n",
       "      <td>4.30693</td>\n",
       "      <td>40084.679183</td>\n",
       "      <td>3.155815e+07</td>\n",
       "      <td>3.0</td>\n",
       "    </tr>\n",
       "    <tr>\n",
       "      <th>12</th>\n",
       "      <td>-0.044132</td>\n",
       "      <td>3.778338</td>\n",
       "      <td>2.319430</td>\n",
       "      <td>2.366346</td>\n",
       "      <td>0.686801</td>\n",
       "      <td>0.898360</td>\n",
       "      <td>3.578042e+06</td>\n",
       "      <td>1.485700e+06</td>\n",
       "      <td>2.343984e+07</td>\n",
       "      <td>5.287569</td>\n",
       "      <td>1.359213</td>\n",
       "      <td>0.080727</td>\n",
       "      <td>7.18802</td>\n",
       "      <td>72788.911664</td>\n",
       "      <td>3.155815e+07</td>\n",
       "      <td>3.0</td>\n",
       "    </tr>\n",
       "    <tr>\n",
       "      <th>13</th>\n",
       "      <td>-0.317047</td>\n",
       "      <td>1.304027</td>\n",
       "      <td>2.302154</td>\n",
       "      <td>1.316011</td>\n",
       "      <td>0.927874</td>\n",
       "      <td>0.963228</td>\n",
       "      <td>1.238127e+06</td>\n",
       "      <td>1.136674e+06</td>\n",
       "      <td>2.440876e+07</td>\n",
       "      <td>5.213840</td>\n",
       "      <td>1.892711</td>\n",
       "      <td>2.667205</td>\n",
       "      <td>4.44948</td>\n",
       "      <td>41651.919868</td>\n",
       "      <td>3.155815e+07</td>\n",
       "      <td>3.0</td>\n",
       "    </tr>\n",
       "    <tr>\n",
       "      <th>14</th>\n",
       "      <td>0.103452</td>\n",
       "      <td>0.224388</td>\n",
       "      <td>2.143049</td>\n",
       "      <td>1.656132</td>\n",
       "      <td>0.875693</td>\n",
       "      <td>0.882968</td>\n",
       "      <td>6.389298e+06</td>\n",
       "      <td>3.161571e+06</td>\n",
       "      <td>2.951609e+07</td>\n",
       "      <td>3.654661</td>\n",
       "      <td>1.576879</td>\n",
       "      <td>1.208145</td>\n",
       "      <td>8.08487</td>\n",
       "      <td>83307.076180</td>\n",
       "      <td>3.155815e+07</td>\n",
       "      <td>3.0</td>\n",
       "    </tr>\n",
       "  </tbody>\n",
       "</table>\n",
       "</div>"
      ],
      "text/plain": [
       "    EclipticLatitude  EclipticLongitude  PolarAngleOfSpin1  PolarAngleOfSpin2  \\\n",
       "0          -0.564102           0.610927           0.908972           1.181699   \n",
       "1          -1.081082           4.052963           2.354232           1.689765   \n",
       "2           0.636028           0.779159           2.332027           2.065443   \n",
       "3          -0.878570           4.549720           2.068669           1.097989   \n",
       "4          -0.303004           1.292518           1.203136           2.097304   \n",
       "5           0.147296           5.986230           2.434152           1.926613   \n",
       "6          -0.987304           3.886726           2.594339           1.719446   \n",
       "7           0.917031           3.584892           1.665850           2.092903   \n",
       "8           0.835250           3.257316           2.362671           1.539846   \n",
       "9          -0.521369           3.085541           2.582941           2.200156   \n",
       "10          1.288883           2.107165           0.624784           1.607191   \n",
       "11          0.094840           5.181677           2.219383           1.229133   \n",
       "12         -0.044132           3.778338           2.319430           2.366346   \n",
       "13         -0.317047           1.304027           2.302154           1.316011   \n",
       "14          0.103452           0.224388           2.143049           1.656132   \n",
       "\n",
       "       Spin1     Spin2         Mass1         Mass2  CoalescenceTime  \\\n",
       "0   0.972661  0.972862  1.015522e+06  7.968491e+05     4.800021e+06   \n",
       "1   0.742128  0.989247  4.956676e+06  4.067167e+06     8.746488e+06   \n",
       "2   0.574122  0.592671  1.773563e+06  1.083356e+06     1.116784e+07   \n",
       "3   0.942824  0.870789  9.159926e+05  7.017527e+05     1.125857e+07   \n",
       "4   0.747377  0.838800  1.323277e+06  6.124855e+05     1.152694e+07   \n",
       "5   0.745574  0.546848  2.830218e+06  2.322253e+06     1.197096e+07   \n",
       "6   0.829141  0.972219  3.204750e+06  3.056613e+06     1.361711e+07   \n",
       "7   0.988778  0.975945  1.856420e+06  1.801541e+06     1.653219e+07   \n",
       "8   0.833674  0.981901  3.983915e+06  2.049535e+06     1.724516e+07   \n",
       "9   0.825883  0.811360  3.128823e+06  2.640346e+06     1.860576e+07   \n",
       "10  0.953675  0.954511  1.349254e+06  1.195716e+06     2.042622e+07   \n",
       "11  0.908497  0.691493  1.676194e+06  6.075692e+05     2.222807e+07   \n",
       "12  0.686801  0.898360  3.578042e+06  1.485700e+06     2.343984e+07   \n",
       "13  0.927874  0.963228  1.238127e+06  1.136674e+06     2.440876e+07   \n",
       "14  0.875693  0.882968  6.389298e+06  3.161571e+06     2.951609e+07   \n",
       "\n",
       "    PhaseAtCoalescence  InitialPolarAngleL  InitialAzimuthalAngleL  Redshift  \\\n",
       "0             4.275929            2.577539                4.094550   2.18186   \n",
       "1             3.783309            0.963586                3.636925   6.17688   \n",
       "2             2.311127            0.232802                3.798411   6.03496   \n",
       "3             1.150360            1.899782                5.829771   1.10396   \n",
       "4             1.220197            2.691982                1.808398   1.73941   \n",
       "5             4.111379            1.131250                4.319761   5.50770   \n",
       "6             3.628682            2.050928                1.084370   2.87966   \n",
       "7             1.866057            1.410068                0.527915   4.57261   \n",
       "8             1.578620            2.323179                3.643228   3.34910   \n",
       "9             3.425317            2.604701                1.670016   7.21026   \n",
       "10            3.435176            2.064630                4.287875   3.58897   \n",
       "11            0.249198            1.867270                4.798109   4.30693   \n",
       "12            5.287569            1.359213                0.080727   7.18802   \n",
       "13            5.213840            1.892711                2.667205   4.44948   \n",
       "14            3.654661            1.576879                1.208145   8.08487   \n",
       "\n",
       "        Distance  ObservationDuration  Cadence  \n",
       "0   17758.367941         3.155815e+07      3.0  \n",
       "1   61097.116076         3.155815e+07      3.0  \n",
       "2   59472.237592         3.155815e+07      3.0  \n",
       "3    7705.852640         3.155815e+07      3.0  \n",
       "4   13470.983559         3.155815e+07      3.0  \n",
       "5   53474.693790         3.155815e+07      3.0  \n",
       "6   24829.137775         3.155815e+07      3.0  \n",
       "7   43010.925050         3.155815e+07      3.0  \n",
       "8   29747.551597         3.155815e+07      3.0  \n",
       "9   73048.167218         3.155815e+07      3.0  \n",
       "10  32301.543286         3.155815e+07      3.0  \n",
       "11  40084.679183         3.155815e+07      3.0  \n",
       "12  72788.911664         3.155815e+07      3.0  \n",
       "13  41651.919868         3.155815e+07      3.0  \n",
       "14  83307.076180         3.155815e+07      3.0  "
      ]
     },
     "execution_count": 4,
     "metadata": {},
     "output_type": "execute_result"
    }
   ],
   "source": [
    "fid = h5py.File(training_file)\n",
    "names = fid[\"sky/mbhb/cat\"].dtype.names\n",
    "cat_mbhb = np.rec.fromarrays([np.array(fid[\"sky/mbhb/cat\"][name]).squeeze() for name in names], names=names)\n",
    "pd.DataFrame(cat_mbhb)"
   ]
  },
  {
   "cell_type": "code",
   "execution_count": 5,
   "metadata": {},
   "outputs": [
    {
     "data": {
      "text/plain": [
       "{'EclipticLatitude': 'rad',\n",
       " 'EclipticLongitude': 'rad',\n",
       " 'PolarAngleOfSpin1': 'rad',\n",
       " 'PolarAngleOfSpin2': 'rad',\n",
       " 'Spin1': '1',\n",
       " 'Spin2': '1',\n",
       " 'Mass1': 'Msun',\n",
       " 'Mass2': 'Msun',\n",
       " 'CoalescenceTime': 's',\n",
       " 'PhaseAtCoalescence': 'rad',\n",
       " 'InitialPolarAngleL': 'rad',\n",
       " 'InitialAzimuthalAngleL': 'rad',\n",
       " 'Redshift': '1',\n",
       " 'Distance': 'Mpc',\n",
       " 'ObservationDuration': None,\n",
       " 'Cadence': None}"
      ]
     },
     "execution_count": 5,
     "metadata": {},
     "output_type": "execute_result"
    }
   ],
   "source": [
    "# get units\n",
    "units = [(k, fid['sky/mbhb/cat'].attrs.get(k)) for k in names]\n",
    "units = dict(units)\n",
    "units"
   ]
  },
  {
   "cell_type": "code",
   "execution_count": 6,
   "metadata": {},
   "outputs": [
    {
     "data": {
      "text/plain": [
       "{'approximant': b'IMRPhenomD',\n",
       " 'catalogs': b'/data/Q3d_complete',\n",
       " 'coalescence_time_0': 0.1,\n",
       " 'coalescence_time_1': 0.95,\n",
       " 'indices_0': 185,\n",
       " 'indices_1': 469,\n",
       " 'indices_10': 134,\n",
       " 'indices_11': 383,\n",
       " 'indices_12': 117,\n",
       " 'indices_13': 258,\n",
       " 'indices_14': 204,\n",
       " 'indices_2': 640,\n",
       " 'indices_3': 547,\n",
       " 'indices_4': 671,\n",
       " 'indices_5': 340,\n",
       " 'indices_6': 267,\n",
       " 'indices_7': 58,\n",
       " 'indices_8': 301,\n",
       " 'indices_9': 488,\n",
       " 'mass_ratio_0': 1,\n",
       " 'mass_ratio_1': 10,\n",
       " 'mass_total_0': -1,\n",
       " 'mass_total_1': 5000,\n",
       " 'nsource': 15,\n",
       " 'seed': 1234,\n",
       " 'source_type': b'MBHB',\n",
       " 'spin1_0': 0.5,\n",
       " 'spin1_1': 0.99,\n",
       " 'spin2_0': 0.5,\n",
       " 'spin2_1': 0.99}"
      ]
     },
     "execution_count": 6,
     "metadata": {},
     "output_type": "execute_result"
    }
   ],
   "source": [
    "cfg = dict(zip(fid[\"sky/mbhb/config\"].keys(), [v[()] for v in fid[\"sky/mbhb/config\"].values()]))\n",
    "cfg"
   ]
  },
  {
   "cell_type": "markdown",
   "metadata": {},
   "source": [
    "### Get noisy TDI"
   ]
  },
  {
   "cell_type": "code",
   "execution_count": 7,
   "metadata": {},
   "outputs": [
    {
     "data": {
      "text/plain": [
       "Text(0.5, 0, 'Freq [Hz]')"
      ]
     },
     "execution_count": 7,
     "metadata": {},
     "output_type": "execute_result"
    },
    {
     "data": {
      "image/png": "[encoded data removed]",
      "text/plain": [
       "<Figure size 1080x360 with 2 Axes>"
      ]
     },
     "metadata": {
      "needs_background": "light"
     },
     "output_type": "display_data"
    }
   ],
   "source": [
    "tdi = fid[\"obs/tdi\"][()]\n",
    "dt = tdi['t'][1]-tdi['t'][0]\n",
    "plt.figure(figsize=(15,5))\n",
    "plt.subplot(211)\n",
    "plt.plot(tdi['t'], tdi[\"X\"])\n",
    "plt.axis([None, None, -0.5e-18, 0.5e-18])\n",
    "plt.ylabel(\"TDI X\")\n",
    "plt.xlabel(\"Time [s]\")\n",
    "plt.subplot(212)\n",
    "f, psdX =  scipy.signal.welch(tdi[\"X\"].squeeze(), fs=1.0/dt, window='hanning', nperseg=256*256)\n",
    "plt.loglog(f, np.sqrt(psdX))\n",
    "plt.axis([1e-5, 4e-2, 1e-21, 1e-18])\n",
    "plt.ylabel(\"TDI X\")\n",
    "plt.xlabel(\"Freq [Hz]\")"
   ]
  },
  {
   "cell_type": "code",
   "execution_count": null,
   "metadata": {},
   "outputs": [],
   "source": []
  },
  {
   "cell_type": "markdown",
   "metadata": {},
   "source": [
    "### Get pipeline configuration"
   ]
  },
  {
   "cell_type": "code",
   "execution_count": 8,
   "metadata": {},
   "outputs": [
    {
     "data": {
      "text/plain": [
       "{'accnoise': 2.4e-15,\n",
       " 'backlinknoise': 3e-12,\n",
       " 'dirname': b'v2',\n",
       " 'dt': 2.5,\n",
       " 'dt_instrument': 0.25,\n",
       " 'dt_orbits': 86400.0,\n",
       " 'dt_tdi': 5.0,\n",
       " 'initial_position': 0.0,\n",
       " 'initial_rotation': 0.0,\n",
       " 'interp_order': 9,\n",
       " 'nbatch': 1,\n",
       " 'nominal_arm_length': 2500000000.0,\n",
       " 'orbit_type': b'equal_armlength',\n",
       " 'physic_upsampling': 1,\n",
       " 'readoutnoise': 6.35e-12,\n",
       " 'sim_kaiser_attenuation': 240,\n",
       " 'sim_kaiser_delay': 4.5,\n",
       " 'sim_kaiser_passband': 1.1,\n",
       " 'sim_kaiser_stopband': 2.9,\n",
       " 't_max': 31536000.0,\n",
       " 't_min': 0.0,\n",
       " 'tdi_kaiser_attenuation': 240,\n",
       " 'tdi_kaiser_cutoff': 0.05,\n",
       " 'tdi_kaiser_delay': 161.75,\n",
       " 'tdi_kaiser_passband': 0.05,\n",
       " 'tdi_kaiser_stopband': 0.1,\n",
       " 'travel_time_order': 1}"
      ]
     },
     "execution_count": 8,
     "metadata": {},
     "output_type": "execute_result"
    }
   ],
   "source": [
    "cfg = dict(zip(fid[\"obs/config\"].keys(), [v[()] for v in fid[\"obs/config\"].values()]))\n",
    "cfg"
   ]
  },
  {
   "cell_type": "code",
   "execution_count": 9,
   "metadata": {},
   "outputs": [
    {
     "data": {
      "text/plain": [
       "{'LISA_AAFILTER_ATTENUATION': 240,\n",
       " 'LISA_AAFILTER_TRANSITION_BAND_0': 1.1,\n",
       " 'LISA_AAFILTER_TRANSITION_BAND_1': 2.9,\n",
       " 'LISA_ACC_NOISE_A_LEVEL': 2.4e-15,\n",
       " 'LISA_ACC_NOISE_F_KNEE': 0.0004,\n",
       " 'LISA_ACC_NOISE_USE_PZM': False,\n",
       " 'LISA_ADC_RECURSION_ORDER': 1,\n",
       " 'LISA_BACKLINK_NOISE_A_LEVEL': 3e-12,\n",
       " 'LISA_BACKLINK_NOISE_F_KNEE': 0.002,\n",
       " 'LISA_DEBUG_CLOCK_OFFSETS': False,\n",
       " 'LISA_FREQUENCY_OFFSETS_12': 8.1,\n",
       " 'LISA_FREQUENCY_OFFSETS_13': 1.4,\n",
       " 'LISA_FREQUENCY_OFFSETS_21': -9.5,\n",
       " 'LISA_FREQUENCY_OFFSETS_23': 9.2,\n",
       " 'LISA_FREQUENCY_OFFSETS_31': 10.3,\n",
       " 'LISA_FREQUENCY_OFFSETS_32': -11.6,\n",
       " 'LISA_GLITCH_FILE': b'None',\n",
       " 'LISA_GW_FILE_FS': 0.4,\n",
       " 'LISA_GW_FILE_UPSAMPLING': 10.0,\n",
       " 'LISA_GW_TYPE': b'file',\n",
       " 'LISA_LASER_CENTRAL_FREQUENCY': 281600000.0,\n",
       " 'LISA_LOCKING_SCHEME': b'N1c',\n",
       " 'LISA_MEASUREMENT_DOWNSAMPLING': 1,\n",
       " 'LISA_MEASUREMENT_FS': 4.0,\n",
       " 'LISA_ORBIT_TYPE_0': b'file',\n",
       " 'LISA_ORBIT_TYPE_1': b'ppr',\n",
       " 'LISA_PHYSICS_FS': 4.0,\n",
       " 'LISA_PRIMARY_LASER': b'12',\n",
       " 'LISA_PUBLISH_BEATNOTE_COMPONENTS': True,\n",
       " 'LISA_PUBLISH_TOTAL_BEATNOTE': True,\n",
       " 'LISA_SIMULATE_DOPPLER': False,\n",
       " 'LISA_TDI_FS': 0.2,\n",
       " 'OB_INDICES_0': b'12',\n",
       " 'OB_INDICES_1': b'23',\n",
       " 'OB_INDICES_2': b'31',\n",
       " 'OB_INDICES_3': b'13',\n",
       " 'OB_INDICES_4': b'32',\n",
       " 'OB_INDICES_5': b'21',\n",
       " 'SC_INDICES_0': b'1',\n",
       " 'SC_INDICES_1': b'2',\n",
       " 'SC_INDICES_2': b'3',\n",
       " 'TDI_CLOCKCOR_MICHELSON': True,\n",
       " 'TDI_CLOCKCOR_ORTHVAR': True,\n",
       " 'TDI_CLOCKCOR_SAGNAC': False,\n",
       " 'TDI_GENERATION': 1.5,\n",
       " 'TDI_INPUT_FORMAT': b'hdf5',\n",
       " 'TDI_MEASUREMENT_FS': 4.0,\n",
       " 'TDI_PUBLISH_INTERVAR': True,\n",
       " 'TDI_PUBLISH_MICHELSON': True,\n",
       " 'TDI_PUBLISH_ORTHVAR': True,\n",
       " 'TDI_PUBLISH_SAGNAC': False,\n",
       " 'TDI_USE_DOPPLER_CORRECTION': False,\n",
       " 'TDI_USE_FREQUENCY_FLUCTUATIONS': True,\n",
       " 'TDI_USE_UPDATED_CLOCKCOR': True,\n",
       " 'TRIPLET_INDICES_0': b'123',\n",
       " 'TRIPLET_INDICES_1': b'231',\n",
       " 'TRIPLET_INDICES_2': b'312',\n",
       " 'TRIPLET_INDICES_3': b'132',\n",
       " 'TRIPLET_INDICES_4': b'321',\n",
       " 'TRIPLET_INDICES_5': b'213'}"
      ]
     },
     "execution_count": 9,
     "metadata": {},
     "output_type": "execute_result"
    }
   ],
   "source": [
    "cfg = dict(zip(fid[\"instru/config\"].keys(), [v[()] for v in fid[\"instru/config\"].values()]))\n",
    "cfg"
   ]
  },
  {
   "cell_type": "markdown",
   "metadata": {},
   "source": [
    "### Get noiseless TDI data\n"
   ]
  },
  {
   "cell_type": "code",
   "execution_count": 10,
   "metadata": {},
   "outputs": [],
   "source": [
    "tdi = fid[\"sky/mbhb/tdi\"][()]"
   ]
  },
  {
   "cell_type": "code",
   "execution_count": 11,
   "metadata": {},
   "outputs": [
    {
     "data": {
      "text/plain": [
       "Text(0.5, 0, 'Time [s]')"
      ]
     },
     "execution_count": 11,
     "metadata": {},
     "output_type": "execute_result"
    },
    {
     "data": {
      "image/png": "[encoded data removed]",
      "text/plain": [
       "<Figure size 1080x360 with 1 Axes>"
      ]
     },
     "metadata": {
      "needs_background": "light"
     },
     "output_type": "display_data"
    }
   ],
   "source": [
    "plt.figure(figsize=(15,5))\n",
    "plt.plot(tdi['t'], tdi[\"X\"])\n",
    "plt.axis([None, None, -0.5e-18, 0.5e-18])\n",
    "plt.ylabel(\"TDI X\")\n",
    "plt.xlabel(\"Time [s]\")"
   ]
  },
  {
   "cell_type": "markdown",
   "metadata": {},
   "source": [
    "# Some tips to deal with indexed data\n",
    "In the LDC toolbox, we use the xarray python package to handle time and frequency series.  "
   ]
  },
  {
   "cell_type": "code",
   "execution_count": 12,
   "metadata": {},
   "outputs": [
    {
     "name": "stdout",
     "output_type": "stream",
     "text": [
      "<xarray.DataArray (t: 6307200)>\n",
      "array([ 3.62700534e-22,  6.14763344e-22,  1.08330305e-21, ...,\n",
      "       -5.82080396e-26, -5.81629209e-26, -5.81184036e-26])\n",
      "Coordinates:\n",
      "  * t        (t) float64 0.0 5.0 10.0 15.0 ... 3.154e+07 3.154e+07 3.154e+07\n"
     ]
    }
   ],
   "source": [
    "import xarray as xr\n",
    "X = xr.DataArray(tdi['X'].squeeze(), coords=[(\"t\", tdi['t'].flatten())])\n",
    "Y = xr.DataArray(tdi['Y'].squeeze(), coords=[(\"t\", tdi['t'].flatten())])\n",
    "Z = xr.DataArray(tdi['Z'].squeeze(), coords=[(\"t\", tdi['t'].flatten())])\n",
    "print(X)"
   ]
  },
  {
   "cell_type": "markdown",
   "metadata": {},
   "source": [
    "## Plotting facilities"
   ]
  },
  {
   "cell_type": "code",
   "execution_count": 13,
   "metadata": {},
   "outputs": [
    {
     "data": {
      "text/plain": [
       "<matplotlib.legend.Legend at 0x7fe9455c3910>"
      ]
     },
     "execution_count": 13,
     "metadata": {},
     "output_type": "execute_result"
    },
    {
     "data": {
      "image/png": "[encoded data removed]",
      "text/plain": [
       "<Figure size 1080x360 with 1 Axes>"
      ]
     },
     "metadata": {
      "needs_background": "light"
     },
     "output_type": "display_data"
    }
   ],
   "source": [
    "plt.figure(figsize=(15,5))\n",
    "X.plot(label='X')\n",
    "plt.legend()"
   ]
  },
  {
   "cell_type": "code",
   "execution_count": null,
   "metadata": {},
   "outputs": [],
   "source": []
  },
  {
   "cell_type": "markdown",
   "metadata": {},
   "source": [
    "## Data selection and indexing"
   ]
  },
  {
   "cell_type": "code",
   "execution_count": 14,
   "metadata": {},
   "outputs": [
    {
     "data": {
      "text/plain": [
       "<matplotlib.legend.Legend at 0x7fe942520be0>"
      ]
     },
     "execution_count": 14,
     "metadata": {},
     "output_type": "execute_result"
    },
    {
     "data": {
      "image/png": "[encoded data removed]",
      "text/plain": [
       "<Figure size 1080x360 with 1 Axes>"
      ]
     },
     "metadata": {
      "needs_background": "light"
     },
     "output_type": "display_data"
    }
   ],
   "source": [
    "# data selection along time coordinate\n",
    "ds = xr.Dataset({'X':X, 'Y':Y, 'Z':Z})\n",
    "first_merger = ds.sel(t=slice(4798000, 4802000))\n",
    "plt.figure(figsize=(15,5))\n",
    "first_merger['X'].plot(label=\"X\")\n",
    "first_merger['Y'].plot(label=\"Y\")\n",
    "first_merger['Z'].plot(label=\"Z\")\n",
    "plt.legend()"
   ]
  },
  {
   "cell_type": "code",
   "execution_count": null,
   "metadata": {},
   "outputs": [],
   "source": []
  },
  {
   "cell_type": "markdown",
   "metadata": {},
   "source": [
    "# Fourier transform\n"
   ]
  },
  {
   "cell_type": "markdown",
   "metadata": {},
   "source": [
    "One needs to remove samples at the edges"
   ]
  },
  {
   "cell_type": "code",
   "execution_count": 15,
   "metadata": {},
   "outputs": [],
   "source": [
    "def window(tm, xl=1000.0, kap=0.005):\n",
    "    \"\"\"Return time domain window function to remove the first and last xl\n",
    "    sec. \n",
    "    \"\"\"\n",
    "    ind_r = np.argwhere(tm[-1]-tm <= xl)[0][0]\n",
    "    xr = tm[ind_r]\n",
    "    winl = 0.5*(1.0 + np.tanh(kap*(tm-xl)))\n",
    "    winr = 0.5*(1.0 - np.tanh(kap*(tm-xr)))\n",
    "    return (winl*winr)"
   ]
  },
  {
   "cell_type": "markdown",
   "metadata": {},
   "source": [
    "### GB in time domain"
   ]
  },
  {
   "cell_type": "code",
   "execution_count": 16,
   "metadata": {},
   "outputs": [],
   "source": [
    "fid = h5py.File(training_file)\n",
    "tdi = fid[\"sky/dgb/tdi\"][()]"
   ]
  },
  {
   "cell_type": "code",
   "execution_count": 17,
   "metadata": {},
   "outputs": [
    {
     "data": {
      "text/plain": [
       "[<matplotlib.lines.Line2D at 0x7fe942432640>]"
      ]
     },
     "execution_count": 17,
     "metadata": {},
     "output_type": "execute_result"
    },
    {
     "data": {
      "image/png": "[encoded data removed]",
      "text/plain": [
       "<Figure size 1080x360 with 1 Axes>"
      ]
     },
     "metadata": {
      "needs_background": "light"
     },
     "output_type": "display_data"
    }
   ],
   "source": [
    "plt.figure(figsize=(15,5))\n",
    "plt.plot(tdi['t'], tdi[\"X\"])"
   ]
  },
  {
   "cell_type": "markdown",
   "metadata": {},
   "source": [
    "### GB in freq. domain"
   ]
  },
  {
   "cell_type": "code",
   "execution_count": 18,
   "metadata": {},
   "outputs": [],
   "source": [
    "dt = tdi[\"t\"][1]-tdi[\"t\"][0]\n",
    "win = window(tdi[\"t\"].flatten())\n",
    "tdi_f = [np.fft.rfft(win*tdi[k].flatten())*dt for k in [\"X\", \"Y\", \"Z\"]]\n",
    "df = 1.0/(dt * len(tdi['X']))\n",
    "freq = df * np.arange(0, len(tdi_f[0]))\n",
    "tdi_f = [xr.DataArray(tdi_f[j], dims=('f'), coords={'f':freq}) for j,k in enumerate([\"X\", \"Y\", \"Z\"])]\n",
    "tdi_f = xr.Dataset(dict(zip([\"X\", \"Y\", \"Z\"], tdi_f)))"
   ]
  },
  {
   "cell_type": "code",
   "execution_count": 19,
   "metadata": {},
   "outputs": [
    {
     "name": "stdout",
     "output_type": "stream",
     "text": [
      "<xarray.DataArray 'X' (f: 3153601)>\n",
      "array([ 1.15620842e-20+0.00000000e+00j,  1.15620842e-20+5.26545026e-24j,\n",
      "        1.15620842e-20+1.05309025e-23j, ...,\n",
      "       -6.75334795e-25-6.76407488e-30j, -6.75334778e-25-3.36657228e-30j,\n",
      "       -6.75334820e-25+0.00000000e+00j])\n",
      "Coordinates:\n",
      "  * f        (f) float64 0.0 3.171e-08 6.342e-08 9.513e-08 ... 0.1 0.1 0.1 0.1\n"
     ]
    }
   ],
   "source": [
    "print(tdi_f[\"X\"])"
   ]
  },
  {
   "cell_type": "code",
   "execution_count": 20,
   "metadata": {},
   "outputs": [
    {
     "data": {
      "text/plain": [
       "<matplotlib.legend.Legend at 0x7fe94241caf0>"
      ]
     },
     "execution_count": 20,
     "metadata": {},
     "output_type": "execute_result"
    },
    {
     "data": {
      "image/png": "[encoded data removed]",
      "text/plain": [
       "<Figure size 1080x360 with 2 Axes>"
      ]
     },
     "metadata": {
      "needs_background": "light"
     },
     "output_type": "display_data"
    }
   ],
   "source": [
    "plt.figure(figsize=(15,5))\n",
    "plt.subplot(211)\n",
    "tdi_f[\"X\"].real.plot(label='real part')\n",
    "plt.legend()\n",
    "plt.axis([0.010992, 0.010996, -1e-16, 1e-16])\n",
    "plt.subplot(212)\n",
    "tdi_f[\"X\"].imag.plot(label=\"imag part\")\n",
    "plt.axis([0.010992, 0.010996, -1e-16, 1e-16])\n",
    "plt.legend()"
   ]
  },
  {
   "cell_type": "code",
   "execution_count": null,
   "metadata": {},
   "outputs": [],
   "source": []
  },
  {
   "cell_type": "code",
   "execution_count": null,
   "metadata": {},
   "outputs": [],
   "source": []
  }
 ],
 "metadata": {
  "kernelspec": {
   "display_name": "pv39",
   "language": "python",
   "name": "venv"
  },
  "language_info": {
   "codemirror_mode": {
    "name": "ipython",
    "version": 3
   },
   "file_extension": ".py",
   "mimetype": "text/x-python",
   "name": "python",
   "nbconvert_exporter": "python",
   "pygments_lexer": "ipython3",
   "version": "3.9.1"
  }
 },
 "nbformat": 4,
 "nbformat_minor": 4
}
