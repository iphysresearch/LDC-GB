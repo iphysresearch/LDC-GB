{
 "cells": [
  {
   "cell_type": "markdown",
   "metadata": {},
   "source": [
    "# Generating GW signal to build dedicated simulation\n",
    "\n",
    "This notebook explains how generate GW signal (h+,hx, projected strain, TDI) from source parameters using the LDC toolbox.  \n",
    "\n",
    "## Software requirements\n",
    "\n",
    "- git clone https://gitlab.in2p3.fr/LISA/LDC\n",
    "- pip install requirements.txt\n",
    "- python setup.py build_liborbits install\n",
    "\n",
    "Look at the LDC README for more details.\n",
    "\n",
    "- git clone https://gitlab.in2p3.fr/j2b.bayle/LISANode.git\n",
    "- pip install -e .\n",
    "\n",
    "## Generating a Galactic binary signal"
   ]
  },
  {
   "cell_type": "code",
   "execution_count": null,
   "metadata": {},
   "outputs": [],
   "source": [
    "import matplotlib.pyplot as plt\n",
    "import scipy\n",
    "import numpy as np\n",
    "import xarray as xr\n",
    "from astropy import units as u\n",
    "import pandas as pd\n",
    "\n",
    "import ldc.io.hdf5 as hdfio\n",
    "from ldc.waveform.source import load_gb_catalog, load_mbhb_catalog\n",
    "from ldc.lisa.noise import get_noise_model\n",
    "from ldc.lisa.orbits import Orbits\n",
    "from ldc.lisa.projection import ProjectedStrain\n",
    "from ldc.common.series import TimeSeries, FrequencySeries\n",
    "import ldc.waveform.fastGB as fastGB\n",
    "from ldc.waveform.waveform import HpHc\n",
    "from LISAhdf5 import LISAhdf5,ParsUnits"
   ]
  },
  {
   "cell_type": "markdown",
   "metadata": {},
   "source": [
    "Let's use a verification binary from the catalog provided by the LDC software"
   ]
  },
  {
   "cell_type": "code",
   "execution_count": null,
   "metadata": {},
   "outputs": [],
   "source": [
    "\n",
    "DATAPATH = \"/home/stefan/LDC/Radler/data\"\n",
    "sangria_fn = DATAPATH + \"/dgb-tdi.h5\"\n",
    "sangria_fn = DATAPATH + \"/LDC1-3_VGB_v2_FD_noiseless.hdf5\"\n",
    "FD5 = LISAhdf5(sangria_fn)\n",
    "Nsrc = FD5.getSourcesNum()\n",
    "GWs = FD5.getSourcesName()\n",
    "print(\"Found %d GW sources: \" % Nsrc, GWs)\n",
    "### TOD make sure GalBin is there\n",
    "if GWs[0] != \"GalBinaries\":\n",
    "    raise NotImplementedError\n",
    "p = FD5.getSourceParameters(GWs[0])\n",
    "td = FD5.getPreProcessTDI()\n",
    "del_t = float(p.get(\"Cadence\"))\n",
    "Tobs = float(p.get(\"ObservationDuration\"))\n",
    "\n",
    "### Window function used in fft\n",
    "def window(tm, offs=1000.0):\n",
    "\n",
    "    xl = offs\n",
    "    ind_r = np.argwhere(tm[-1]-tm <= offs)[0][0]\n",
    "    xr = tm[ind_r]\n",
    "    # print (xr)\n",
    "    kap = 0.005\n",
    "    winl = 0.5*(1.0 + np.tanh(kap*(tm-xl)))\n",
    "    winr = 0.5*(1.0 - np.tanh(kap*(tm-xr)))\n",
    "    # plt.plot(tm, winl)\n",
    "    # plt.plot(tm, winr)\n",
    "    # plt.grid(True)\n",
    "    # plt.show()\n",
    "    return (winl*winr)\n"
   ]
  },
  {
   "cell_type": "markdown",
   "metadata": {},
   "source": [
    "We choose the 1st source and set observation parameters"
   ]
  },
  {
   "cell_type": "code",
   "execution_count": null,
   "metadata": {},
   "outputs": [],
   "source": [
    "\n",
    "parameters = [\n",
    "    \"Amplitude\",\n",
    "    \"EclipticLatitude\",\n",
    "    \"EclipticLongitude\",\n",
    "    \"Frequency\",\n",
    "    \"FrequencyDerivative\",\n",
    "    \"Inclination\",\n",
    "    \"InitialPhase\",\n",
    "    \"Polarization\",\n",
    "]\n",
    "pGB = {}\n",
    "ind = 8\n",
    "for parameter in parameters:\n",
    "    pGB[parameter] = p.get(parameter)[ind]\n",
    "print('pGB', pGB)\n",
    "\n",
    "dt = del_t\n",
    "print(dt)\n",
    "# dt = 5 # waveform sampling\n",
    "t_max = 60*60*24*365 # time of observation = 1yr\n",
    "print(t_max)\n",
    "t_min = 0\n",
    "t_max = Tobs\n",
    "print(t_max)\n",
    "\n",
    "config = {\"initial_position\": 0, \"initial_rotation\": 0, \n",
    "          \"nominal_arm_length\": 2500000000, \"orbit_type\": 'analytic'}\n",
    "lisa_orbits = Orbits.type(config)"
   ]
  },
  {
   "cell_type": "markdown",
   "metadata": {},
   "source": [
    "### Generating noise free TDI X,Y,Z using fast waveform generator"
   ]
  },
  {
   "cell_type": "code",
   "execution_count": null,
   "metadata": {
    "scrolled": true
   },
   "outputs": [],
   "source": [
    "GB = fastGB.FastGB(delta_t=dt, T=t_max, orbits=lisa_orbits) # in seconds\n",
    "Xs, Ys, Zs = GB.get_fd_tdixyz(template=pGB, oversample=4, simulator='synthlisa')\n",
    "\n",
    "plt.figure(figsize=(15, 5))\n",
    "for j, d in enumerate([Xs, Ys, Zs]):\n",
    "    plt.subplot(1,3,j+1)\n",
    "    plt.plot(d.f, d)\n",
    "    plt.xlabel(\"Time [s]\")\n",
    "    if j==0:\n",
    "        plt.ylabel(\"TDI\")\n",
    "        plt.legend()"
   ]
  },
  {
   "cell_type": "markdown",
   "metadata": {},
   "source": [
    "### Generating noise free projected strain\n",
    "\n",
    "In the following, projector.yArm (nt, 6) contains the projected strain signal for the 6 links, it can be saved in an h5 file to be given as input to LISANode. The LISANode configuration file has to be changed for:\n",
    "\n",
    "```\n",
    "LISA_GW_TYPE = 'file'\n",
    "LISA_GW_FILE_FS = 0.2 #1 over dt \n",
    "```\n",
    "\n",
    "Then: ```lisanode run lisanode:LISAWithTDI --gw-path my_gw_for_lisanode.h5```\n",
    "\n",
    "The actual call to lisanode is shown below. "
   ]
  },
  {
   "cell_type": "code",
   "execution_count": null,
   "metadata": {},
   "outputs": [],
   "source": [
    "GB = HpHc.type('AM_CVn', \"GB\", \"TD_fdot\")\n",
    "GB.set_param(pGB)\n",
    "projector = ProjectedStrain(lisa_orbits)\n",
    "yArm = projector.arm_response(t_min, t_max, dt, GB.split())\n",
    "projector.links"
   ]
  },
  {
   "cell_type": "code",
   "execution_count": null,
   "metadata": {},
   "outputs": [],
   "source": [
    "projector.to_file(\"my_gw_for_lisanode.h5\")"
   ]
  },
  {
   "cell_type": "markdown",
   "metadata": {},
   "source": [
    "### From projected strain to TDI\n",
    "\n",
    "In the following, we illustrate 3 ways of producing noise free TDI from the projected strain: \n",
    "- using the LDC time domain interpolated TDI\n",
    "- using pyTDI\n",
    "- using LISANode\n",
    "\n",
    "which should all give the same result as the fast TDI code shown above. "
   ]
  },
  {
   "cell_type": "code",
   "execution_count": null,
   "metadata": {},
   "outputs": [],
   "source": [
    "trange = np.arange(t_min, t_max, dt)\n",
    "tdi_X = projector.compute_tdi_x(trange)\n"
   ]
  },
  {
   "cell_type": "code",
   "execution_count": null,
   "metadata": {},
   "outputs": [],
   "source": [
    "p = FD5.getSourceParameters(GWs[0])\n",
    "td = FD5.getPreProcessTDI()\n",
    "del_t = float(p.get(\"Cadence\"))\n",
    "Tobs = float(p.get(\"ObservationDuration\"))\n",
    "\n",
    "dt = del_t\n",
    "\n",
    "# Build timeseries and frequencyseries object for X,Y,Z\n",
    "tdi_ts = xr.Dataset(dict([(k, TimeSeries(td[:, n], dt=dt)) for k, n in [[\"X\", 1], [\"Y\", 2], [\"Z\", 3]]]))\n",
    "# tdi_ts = xr.Dataset(dict([(k,TimeSeries(tdi_ts[k][:,1], dt=dt)) for k in [\"X\", \"Y\", \"Z\"]]))\n",
    "tdi_fs = xr.Dataset(dict([(k, tdi_ts[k].ts.fft(win=window)) for k in [\"X\", \"Y\", \"Z\"]]))"
   ]
  },
  {
   "cell_type": "code",
   "execution_count": null,
   "metadata": {},
   "outputs": [],
   "source": [
    "\n",
    "tdi_X_td = TimeSeries(tdi_X, dt=dt)\n",
    "tdi_X_fd = tdi_X_td.ts.fft(win=window)\n",
    "plt.figure(figsize=(15,10))\n",
    "sl = slice(Xs.f.min(),Xs.f.max())\n",
    "plt.plot(Xs.f, Xs, label=\"fast waveform\")\n",
    "plt.plot(tdi_X_fd.f, tdi_X_fd, label=\"strain to TDI\", alpha=0.5)\n",
    "plt.plot(tdi_fs['X'].f, tdi_fs['X'], label=\"data\", alpha=0.5)\n",
    "plt.xlabel(\"Time [s]\")\n",
    "plt.ylabel(\"TDI X\")\n",
    "plt.xlim(Xs.f.min()+0.000007,Xs.f.max()-0.000007)"
   ]
  },
  {
   "cell_type": "markdown",
   "metadata": {},
   "source": [
    "### Using pyTDI"
   ]
  },
  {
   "cell_type": "code",
   "execution_count": null,
   "metadata": {},
   "outputs": [],
   "source": [
    "pGB = {'Amplitude': 6.373545164051205e-23, 'EclipticLatitude': -0.08222513098415238, 'EclipticLongitude': 2.1022552527635017, 'Frequency': 0.006220281478962882, 'FrequencyDerivative': 7.486504954481661e-16, 'Inclination': 0.6452098954792331, 'InitialPhase': 3.1415926535329115, 'Polarization': 2.9013532283888614}\n",
    "GB = fastGB.FastGB(delta_t=dt, T=t_max, orbits=lisa_orbits) # in seconds\n",
    "Xs, Ys, Zs = GB.get_fd_tdixyz(template=pGB, oversample=4, simulator='synthlisa')\n",
    "\n",
    "plt.figure(figsize=(15, 5))\n",
    "for j, d in enumerate([Xs, Ys, Zs]):\n",
    "    plt.subplot(1,3,j+1)\n",
    "    plt.plot(d.f, d)\n",
    "    plt.xlabel(\"Time [s]\")\n",
    "    if j==0:\n",
    "        plt.ylabel(\"TDI\")\n",
    "        plt.legend()\n",
    "\n",
    "GB = HpHc.type('AM_CVn', \"GB\", \"TD_fdot\")\n",
    "GB.set_param(pGB)\n",
    "projector = ProjectedStrain(lisa_orbits)\n",
    "yArm = projector.arm_response(t_min, t_max, dt, GB.split())\n",
    "projector.links\n",
    "trange = np.arange(t_min, t_max, dt)\n",
    "tdi_X = projector.compute_tdi_x(trange)\n",
    "tdi_X_td = TimeSeries(tdi_X, dt=dt)\n",
    "tdi_X_fd = tdi_X_td.ts.fft(win=window)\n",
    "\n",
    "plt.figure(figsize=(15,10))\n",
    "sl = slice(Xs.f.min(),Xs.f.max())\n",
    "plt.plot(Xs.f, Xs, label=\"fast waveform\")\n",
    "plt.plot(tdi_X_fd.f, tdi_X_fd, label=\"strain to TDI\", alpha=0.5)\n",
    "plt.plot(tdi_fs['X'].f, tdi_fs['X'], label=\"data\", alpha=0.5)\n",
    "plt.xlabel(\"Time [s]\")\n",
    "plt.ylabel(\"TDI X\")\n",
    "plt.xlim(Xs.f.min()+0.000007,Xs.f.max()-0.000007)"
   ]
  },
  {
   "cell_type": "code",
   "execution_count": null,
   "metadata": {},
   "outputs": [],
   "source": [
    "from pytdi.michelson import X1_ETA as X\n",
    "data = {}\n",
    "traveltimes = {}\n",
    "for j, n in enumerate(projector.links):\n",
    "    r,s = int(n[0]), int(n[-1])\n",
    "    data[f\"eta_{r}{s}\"] = yArm[:,j]\n",
    "    traveltimes[f\"d_{r}{s}\"] = lisa_orbits.compute_travel_time(s,r,trange) \n",
    "fs = 1/dt\n",
    "data_X = X.build(data, traveltimes, fs, order=(3, 3))"
   ]
  },
  {
   "cell_type": "code",
   "execution_count": null,
   "metadata": {},
   "outputs": [],
   "source": [
    "plt.figure(figsize=(15,5))\n",
    "plt.subplot(121)\n",
    "plt.plot(trange, data_X, label=\"strain to TDI using pyTDI\")\n",
    "plt.plot(trange, tdi_X, label=\"strain to TDI using LDC\", alpha=0.5)\n",
    "plt.xlabel(\"Time [s]\")\n",
    "plt.ylabel(\"TDI X\")\n",
    "plt.axis([1000, None, -1.5e-23, None])\n",
    "plt.legend()\n",
    "plt.subplot(122)\n",
    "sl = slice(100000,100500)\n",
    "plt.plot(trange[sl], data_X[sl], label=\"strain to TDI using pyTDI\")\n",
    "plt.plot(trange[sl], tdi_X[sl], label=\"strain to TDI using LDC\", alpha=0.5)\n",
    "plt.xlabel(\"Time [s]\")\n",
    "plt.ylabel(\"TDI X\")\n",
    "plt.axis([trange[sl.start]-100, trange[sl.stop]+100, -1.5e-23, None])"
   ]
  },
  {
   "cell_type": "code",
   "execution_count": null,
   "metadata": {},
   "outputs": [],
   "source": [
    "del projector, yArm, tdi_X, X, traveltimes, data, data_X, trange"
   ]
  },
  {
   "cell_type": "markdown",
   "metadata": {},
   "source": [
    "## Calling LISANode\n",
    "\n",
    "In the following, we call LISANode from here and load the resulting TDI output. \n",
    "Beware that the default configuration file is changed by this process. \n",
    "\n",
    "### Note about Orbits\n",
    "\n",
    "One should use the same orbits and travel time for the projection and in the simulator. \n",
    "For now, this can be achieved by adjusting the LISANode configuration to : \n",
    "\n",
    "```\n",
    "LISA_ORBIT_TYPE = 'ldc'\n",
    "```\n",
    "\n",
    "are running with the ```flags``` option to link LISANode to the LDC orbits and constants libraries as shown below.\n",
    "\n",
    "Not all orbits parameters are propagated through the full LISA graph, such that it's not easy to change from the default ones. \n",
    "\n",
    "In a near future (LDC2b production), orbits file generated with the [lisaorbits](https://gitlab.in2p3.fr/lisa-simulation/orbits) software could be used on both sides.  \n",
    "\n",
    "\n",
    "### Note about LISANode frequency sampling\n",
    "\n",
    "For the time being, the LISANode compilation takes a lot of time and memory due to the sampling difference between input GW strain (0.2Hz) and LISA measurement (30Hz).  \n",
    "\n",
    "This issue should be solved soon (again LDC2b production), with GW strain reading using the same buffering system as the one developed for reading orbits file. \n"
   ]
  },
  {
   "cell_type": "code",
   "execution_count": null,
   "metadata": {},
   "outputs": [],
   "source": [
    "import lisanode.lisa\n",
    "import os\n",
    "dest = lisanode.lisa.__file__.replace('__init__', 'config')\n",
    "os.system(\"cp %s %s\"%(\"config.py\", dest))\n",
    "\n",
    "ldc_path = \"/home/maude/soft/LDC/ldc/lisa/orbits\" # set the path to LDC\n",
    "flags = f\"-L{ldc_path}/lib -I{ldc_path}/lib -I{ldc_path}/../../common/constants -lorbits\"\n",
    "\n",
    "output_file = \"gb-tdi.h5\"\n",
    "ln_cmd = f\"lisanode run --enable X Y Z --flags='{flags}' lisanode:LISAWithTDI -d 10000 -o {output_file} --gw-path my_gw_for_lisanode.h5\"\n",
    "ln_cmd += \" --lasernoise-on-off 0 --backlinknoise-on-off 0 --telescopenoise-on-off 0 --accelnoise-on-off 0 --readoutnoise-on-off 0 --obpathlengthnoise-on-off 0 --usonoise-on-off 0 --modulationnoise-on-off 0 --rangingnoise-on-off 0\"\n",
    "ln_cmd\n",
    "os.system(ln_cmd)"
   ]
  },
  {
   "cell_type": "code",
   "execution_count": null,
   "metadata": {},
   "outputs": [],
   "source": [
    "X_sim, attrs = hdfio.load_array(\"gb-tdi.h5\")\n",
    "\n",
    "sl = slice(0,int(10000/dt))\n",
    "plt.figure()\n",
    "plt.plot(Xs.t[sl], Xs[sl], label=\"strain to TDI using pyTDI\")\n",
    "plt.plot(X_sim[\"X\"][:,0], X_sim[\"X\"][:,1], label=\"lisanode\", alpha=0.5)\n",
    "plt.xlabel(\"Time [s]\")\n",
    "plt.ylabel(\"TDI X\")\n",
    "plt.axis([0, 10000, -1.5e-23, 1.5e-23])\n",
    "plt.legend()\n"
   ]
  },
  {
   "cell_type": "markdown",
   "metadata": {},
   "source": [
    "## Generating a massive black hole merger signal"
   ]
  },
  {
   "cell_type": "code",
   "execution_count": null,
   "metadata": {},
   "outputs": [],
   "source": [
    "cat, units = load_mbhb_catalog(\"/home/maude/soft/LDC/data_generation/test/data/catalog_1_yrs_full_1.dat\")\n",
    "pd.DataFrame(cat)"
   ]
  },
  {
   "cell_type": "code",
   "execution_count": null,
   "metadata": {},
   "outputs": [],
   "source": [
    "s_index = 3 # take the fourth, which merge before 1 yr \n",
    "pMBHB = dict(zip(cat.dtype.names, cat[s_index]))\n",
    "pMBHB[\"ObservationDuration\"] = t_max\n",
    "pMBHB[\"Cadence\"] = dt\n",
    "MBHB = HpHc.type(\"demo\", \"MBHB\", \"IMRPhenomD\")\n",
    "MBHB.set_param(pMBHB)\n",
    "projector = ProjectedStrain(lisa_orbits)\n",
    "yArm = projector.arm_response(t_min, t_max, dt, MBHB.split())\n",
    "projector.to_file(\"my_mbhb_for_lisanode.h5\")"
   ]
  },
  {
   "cell_type": "code",
   "execution_count": null,
   "metadata": {},
   "outputs": [],
   "source": [
    "trange = np.arange(t_min, t_max, dt)\n",
    "tdi_X = projector.compute_tdi_x(trange)\n",
    "\n",
    "plt.figure()\n",
    "plt.plot(trange, tdi_X, label=\"strain to TDI\", alpha=0.5)\n",
    "plt.xlabel(\"Time [s]\")\n",
    "plt.ylabel(\"TDI X\")\n",
    "plt.legend()"
   ]
  }
 ],
 "metadata": {
  "kernelspec": {
   "display_name": "Python 3",
   "language": "python",
   "name": "python3"
  },
  "language_info": {
   "codemirror_mode": {
    "name": "ipython",
    "version": 3
   },
   "file_extension": ".py",
   "mimetype": "text/x-python",
   "name": "python",
   "nbconvert_exporter": "python",
   "pygments_lexer": "ipython3",
   "version": "3.7.6"
  },
  "metadata": {
   "interpreter": {
    "hash": "916dbcbb3f70747c44a77c7bcd40155683ae19c65e1c03b4aa3499c5328201f1"
   }
  }
 },
 "nbformat": 4,
 "nbformat_minor": 4
}
