{
 "cells": [
  {
   "cell_type": "markdown",
   "metadata": {},
   "source": [
    "# First steps with sangria dataset\n",
    "\n",
    "## Software requirements\n",
    "\n",
    "- git clone https://gitlab.in2p3.fr/LISA/LDC\n",
    "- pip install requirements.txt\n",
    "- python setup.py install\n",
    "\n",
    "## Downloading the sangria dataset\n",
    "\n",
    "- https://lisa-ldc.lal.in2p3.fr/\n",
    "- https://lisa-ldc.lal.in2p3.fr/media/uploads/LDC2_sangria_v1.h5\n"
   ]
  },
  {
   "cell_type": "code",
   "execution_count": null,
   "metadata": {},
   "outputs": [],
   "source": [
    "import matplotlib.pyplot as plt\n",
    "import scipy\n",
    "import numpy as np\n",
    "import xarray as xr\n",
    "from astropy import units as u\n",
    "\n",
    "import ldc.io.hdf5 as hdfio\n",
    "from ldc.lisa.noise import get_noise_model\n",
    "from ldc.lisa.orbits import Orbits\n",
    "from ldc.lisa.projection import ProjectedStrain\n",
    "from ldc.common.series import TimeSeries, FrequencySeries, window\n",
    "import ldc.waveform.fastGB as fastGB\n",
    "from ldc.common.tools import compute_tdi_snr\n",
    "from ldc.waveform.waveform import HpHc"
   ]
  },
  {
   "cell_type": "code",
   "execution_count": null,
   "metadata": {},
   "outputs": [],
   "source": [
    "DATAPATH = \"/home/stefan/LDC/Sangria/data\"\n",
    "sangria_fn = DATAPATH+\"/LDC2_sangria_training_v1.h5\"\n",
    "tdi_ts, tdi_descr = hdfio.load_array(sangria_fn, name=\"obs/tdi\")\n",
    "dt = int(1/(tdi_descr[\"sampling_frequency\"]))\n",
    "\n",
    "# Build timeseries and frequencyseries object for X,Y,Z\n",
    "tdi_ts = xr.Dataset(dict([(k,TimeSeries(tdi_ts[k], dt=dt)) for k in [\"X\", \"Y\", \"Z\"]]))\n",
    "tdi_fs = xr.Dataset(dict([(k,tdi_ts[k].ts.fft(win=window)) for k in [\"X\", \"Y\", \"Z\"]]))"
   ]
  },
  {
   "cell_type": "markdown",
   "metadata": {},
   "source": [
    "## Looking at PSDs"
   ]
  },
  {
   "cell_type": "code",
   "execution_count": null,
   "metadata": {},
   "outputs": [],
   "source": [
    "noise_model = \"MRDv1\"\n",
    "Nmodel = get_noise_model(noise_model, np.logspace(-5, -1, 100))\n",
    "Npsd = Nmodel.psd()\n",
    "plt.figure(figsize=(8,6))\n",
    "f, psdX =  scipy.signal.welch(tdi_ts[\"X\"], fs=1.0/dt, window='hanning', nperseg=256*256)\n",
    "plt.loglog(f, np.sqrt(psdX), label=\"TDI X\")\n",
    "plt.loglog(Nmodel.freq, np.sqrt(Npsd), label=noise_model, alpha=2)\n",
    "plt.legend()\n",
    "plt.xlabel(\"freq [Hz]\")\n",
    "plt.ylabel(\"PSD\")\n",
    "plt.axis([1e-5, None, 4e-22, 2e-19])\n",
    "print('s')\n",
    "plt.show()\n",
    "print('s')"
   ]
  },
  {
   "cell_type": "markdown",
   "metadata": {},
   "source": [
    "## Verification binary subtraction"
   ]
  },
  {
   "cell_type": "code",
   "execution_count": null,
   "metadata": {},
   "outputs": [],
   "source": [
    "vgb, units = hdfio.load_array(sangria_fn, name=\"sky/vgb/cat\")\n",
    "GB = fastGB.FastGB(delta_t=dt, T=float(tdi_ts[\"X\"].t[-1])) # in seconds\n",
    "pGB = dict(zip(vgb.dtype.names, vgb[8])) # we take the source #8\n",
    "Xs, Ys, Zs = GB.get_fd_tdixyz(template=pGB, oversample=4, simulator='synthlisa')\n",
    "\n",
    "plt.figure(figsize=(12,6))\n",
    "plt.subplot(121)\n",
    "plt.title(\"real part\")\n",
    "plt.plot(tdi_fs[\"X\"].f, tdi_fs[\"X\"].real, label=\"TDI X\")\n",
    "plt.plot(Xs.f, (tdi_fs[\"X\"][Xs.kmin:Xs.kmin+len(Xs)]-Xs.values).real, label=\"TDI X - fast \"+pGB[\"Name\"])\n",
    "plt.axis([pGB[\"Frequency\"]-6e-7, pGB[\"Frequency\"]+6e-7, -3e-17, 5e-17])\n",
    "plt.legend(loc=\"lower right\")\n",
    "plt.xlabel(\"freq [Hz]\")\n",
    "plt.subplot(122)\n",
    "plt.title(\"imaginary part\")\n",
    "plt.plot(tdi_fs[\"X\"].f, tdi_fs[\"X\"].imag, label=\"TDI X\")\n",
    "plt.plot(Xs.f, (tdi_fs[\"X\"].isel(f=slice(Xs.kmin, Xs.kmin+len(Xs)))-Xs.values).imag, label=\"TDI X - fast \"+pGB[\"Name\"])\n",
    "plt.axis([pGB[\"Frequency\"]-6e-7, pGB[\"Frequency\"]+6e-7, -3e-17, 5e-17])\n",
    "plt.legend(loc=\"lower left\")\n",
    "plt.xlabel(\"freq [Hz]\")"
   ]
  },
  {
   "cell_type": "markdown",
   "metadata": {},
   "source": [
    "## Computing the SNR of verification binaries"
   ]
  },
  {
   "cell_type": "code",
   "execution_count": null,
   "metadata": {},
   "outputs": [],
   "source": [
    "vgb, units = hdfio.load_array(sangria_fn, name=\"sky/vgb/cat\")\n",
    "GB = fastGB.FastGB(delta_t=dt, T=float(tdi_ts[\"X\"].t[-1])) # in seconds\n",
    "noise_model = \"MRDv1\"\n",
    "Nmodel = get_noise_model(noise_model, np.logspace(-5, -1, 100))\n",
    "SNR2 = np.zeros((len(vgb), 2)) # snr square\n",
    "for j,s in enumerate(vgb):\n",
    "    pGB = dict(zip(vgb.dtype.names, s))\n",
    "    Xs, Ys, Zs = GB.get_fd_tdixyz(template=pGB, oversample=4, simulator='synthlisa')\n",
    "    fmin, fmax = float(Xs.f[0]) , float(Xs.f[-1]+Xs.attrs['df'])\n",
    "    source = dict({\"X\":Xs, \"Y\":Ys, \"Z\":Zs})\n",
    "    SNR2[j,1] = compute_tdi_snr(source, Nmodel, data=tdi_fs, fmin=fmin, fmax=fmax)[\"tot2\"]\n",
    "    SNR2[j,0] = compute_tdi_snr(source, Nmodel)[\"tot2\"] "
   ]
  },
  {
   "cell_type": "code",
   "execution_count": null,
   "metadata": {},
   "outputs": [],
   "source": [
    "import pandas as pd\n",
    "data = np.array([vgb[\"Name\"], vgb[\"Frequency\"], SNR2[:,0], SNR2[:,1]]).T\n",
    "pd.DataFrame(data, columns=[\"Name\", \"f0\", \"fastGB\", \"TDI\"])"
   ]
  },
  {
   "cell_type": "markdown",
   "metadata": {},
   "source": [
    "## MBHBs\n",
    "\n",
    "This part should be updated with a MBHB fast approximation provided by the ldc toolbox"
   ]
  },
  {
   "cell_type": "code",
   "execution_count": null,
   "metadata": {},
   "outputs": [],
   "source": [
    "def semi_fast_tdi(config, pMBHB, t_max, dt):\n",
    "    hphc = HpHc.type(\"MBHB-%d\"%s_index, \"MBHB\", \"IMRPhenomD\")\n",
    "    hphc.set_param(pMBHB)\n",
    "    orbits = Orbits.type(config)\n",
    "    P = ProjectedStrain(orbits)    \n",
    "    yArm = P.arm_response(0, t_max, dt, [hphc], tt_order=1)\n",
    "    X = P.compute_tdi_x(np.arange(0, t_max, dt))\n",
    "    Y = P.compute_tdi_y(np.arange(0, t_max, dt))\n",
    "    return TimeSeries(Y, dt=dt)\n",
    "\n",
    "default_units = {'EclipticLatitude':'rad','EclipticLongitude':'rad',\n",
    "         'PolarAngleOfSpin1':'rad','PolarAngleOfSpin2':'rad',\n",
    "         'Spin1': '1','Spin2':'1',\n",
    "         'Mass1':'Msun','Mass2':'Msun',\n",
    "         'CoalescenceTime': 's','PhaseAtCoalescence':'rad',\n",
    "         'InitialPolarAngleL':'rad','InitialAzimuthalAngleL':'rad',\n",
    "         'Cadence': 's','Redshift': '1','Distance': 'Gpc',\n",
    "         'ObservationDuration':'s'}\n",
    "\n",
    "mbhb, units = hdfio.load_array(sangria_fn, name=\"sky/mbhb/cat\")\n",
    "print(units)\n",
    "if not units:\n",
    "    units = default_units\n",
    "config = hdfio.load_config(sangria_fn, name=\"obs/config\")\n",
    "print(config)\n",
    "s_index = 0\n",
    "pMBHB = dict(zip(mbhb.dtype.names, mbhb[s_index]))\n",
    "units = default_units\n",
    "#for k,v in pMBHB.items():\n",
    "#   print(k)\n",
    "# #  pMBHB[k] *= u.Unit(units[k])\n",
    "\n",
    "t_max = float(tdi_ts[\"X\"].t[-1]+tdi_ts[\"X\"].attrs[\"dt\"])\n",
    "Xs = semi_fast_tdi(config, pMBHB, t_max, dt)\n",
    "\n",
    "plt.figure(figsize=(12,6))\n",
    "plt.plot(tdi_ts[\"X\"].t, tdi_ts[\"X\"], label=\"TDI X\")\n",
    "plt.plot(Xs.t, (tdi_ts[\"X\"]-Xs), label=\"TDI X - fast %d\"%s_index)\n",
    "plt.axis([pMBHB[\"CoalescenceTime\"]-1000, pMBHB[\"CoalescenceTime\"]+600, None, None])\n",
    "plt.legend(loc=\"lower right\")\n",
    "plt.xlabel(\"time [s]\")"
   ]
  },
  {
   "cell_type": "code",
   "execution_count": null,
   "metadata": {},
   "outputs": [],
   "source": [
    "config[\"t_max\"].unit"
   ]
  },
  {
   "cell_type": "code",
   "execution_count": null,
   "metadata": {},
   "outputs": [],
   "source": [
    "def mldc_fast_tdi(pMBHB, t_max, dt):\n",
    "    from GenerateFD_SignalTDIs import ComputeMBHBXYZ_FD\n",
    "    from LISAhdf5 import ParsUnits\n",
    "    hphc = HpHc.type(\"MBHB-%d\"%s_index, \"MBHB\", \"IMRPhenomD\")\n",
    "    hphc.set_param(pMBHB)\n",
    "    pMBHB[\"Cadence\"] = dt\n",
    "    pMBHB[\"ObservationDuration\"] = t_max/2\n",
    "    pu = ParsUnits(pars_i=pMBHB, units_i=hphc.info())\n",
    "    fr, Xs, Ys, Zs = ComputeMBHBXYZ_FD(pu)\n",
    "    return (FrequencySeries(Xs, df=1/t_max), \n",
    "            FrequencySeries(Ys, df=1/t_max),\n",
    "            FrequencySeries(Zs, df=1/t_max))\n",
    "\n",
    "mbhb = hdfio.load_array(sangria_fn, name=\"sky/mbhb/cat\", full_output=False)\n",
    "config = hdfio.load_config(sangria_fn, name=\"obs/config\")\n",
    "noise_model = \"MRDv1\"\n",
    "Nmodel = get_noise_model(noise_model, np.logspace(-5, -1, 100))\n",
    "SNR2 = np.zeros((len(mbhb), 2)) \n",
    "for j,s in enumerate(mbhb):\n",
    "    pMBHB = dict(zip(mbhb.dtype.names, s))\n",
    "    Xs,Ys,Zs = mldc_fast_tdi(pMBHB, t_max, dt)\n",
    "    source = dict({\"X\":Xs, \"Y\":Ys, \"Z\":Zs})\n",
    "    SNR2[j,1] = compute_tdi_snr(source, Nmodel, data=tdi_fs)[\"tot2\"]\n",
    "    SNR2[j,0] = compute_tdi_snr(source, Nmodel)[\"tot2\"]"
   ]
  },
  {
   "cell_type": "code",
   "execution_count": null,
   "metadata": {},
   "outputs": [],
   "source": [
    "import pandas as pd\n",
    "data = np.array([range(len(mbhb)), mbhb[\"CoalescenceTime\"], SNR2[:,0], SNR2[:,1]]).T\n",
    "pd.DataFrame(data, columns=[\"index\", \"tc\", \"fast\", \"TDI\"])"
   ]
  },
  {
   "cell_type": "code",
   "execution_count": null,
   "metadata": {},
   "outputs": [],
   "source": []
  },
  {
   "cell_type": "code",
   "execution_count": null,
   "metadata": {},
   "outputs": [],
   "source": []
  }
 ],
 "metadata": {
  "kernelspec": {
   "display_name": "Python 3.7.6 64-bit ('base': conda)",
   "name": "python37664bitbasecondaab041d148110474096657eb9c0607b28"
  },
  "language_info": {
   "codemirror_mode": {
    "name": "ipython",
    "version": 3
   },
   "file_extension": ".py",
   "mimetype": "text/x-python",
   "name": "python",
   "nbconvert_exporter": "python",
   "pygments_lexer": "ipython3",
   "version": "3.7.6"
  },
  "metadata": {
   "interpreter": {
    "hash": "afd6f1a040d560734edda17b22ecc948d7e454f0284d15769ef19bf52cbf0901"
   }
  }
 },
 "nbformat": 4,
 "nbformat_minor": 4
}
